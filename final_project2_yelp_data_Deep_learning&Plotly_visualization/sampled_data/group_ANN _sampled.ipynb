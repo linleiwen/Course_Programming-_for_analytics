{
 "cells": [
  {
   "cell_type": "code",
   "execution_count": 8,
   "metadata": {
    "collapsed": true
   },
   "outputs": [],
   "source": [
    "import numpy as np\n",
    "import pandas as pd"
   ]
  },
  {
   "cell_type": "code",
   "execution_count": 9,
   "metadata": {
    "collapsed": true
   },
   "outputs": [],
   "source": [
    "table = pd.read_pickle(\"dataset/table_whole.pickle\")"
   ]
  },
  {
   "cell_type": "code",
   "execution_count": 10,
   "metadata": {},
   "outputs": [
    {
     "data": {
      "text/html": [
       "<div>\n",
       "<style>\n",
       "    .dataframe thead tr:only-child th {\n",
       "        text-align: right;\n",
       "    }\n",
       "\n",
       "    .dataframe thead th {\n",
       "        text-align: left;\n",
       "    }\n",
       "\n",
       "    .dataframe tbody tr th {\n",
       "        vertical-align: top;\n",
       "    }\n",
       "</style>\n",
       "<table border=\"1\" class=\"dataframe\">\n",
       "  <thead>\n",
       "    <tr style=\"text-align: right;\">\n",
       "      <th></th>\n",
       "      <th></th>\n",
       "      <th>business_review_count</th>\n",
       "      <th>avg_business_stars</th>\n",
       "      <th>location</th>\n",
       "      <th>RestaurantsPriceRange2</th>\n",
       "      <th>RestaurantsTakeOut</th>\n",
       "      <th>RestaurantsGoodForGroups</th>\n",
       "      <th>BusinessAcceptsCreditCards</th>\n",
       "      <th>GoodForKids</th>\n",
       "      <th>RestaurantsAttire</th>\n",
       "      <th>RestaurantsReservations</th>\n",
       "      <th>...</th>\n",
       "      <th>cool</th>\n",
       "      <th>elite</th>\n",
       "      <th>fans</th>\n",
       "      <th>friends</th>\n",
       "      <th>funny</th>\n",
       "      <th>user_review_count</th>\n",
       "      <th>useful</th>\n",
       "      <th>yelping_since</th>\n",
       "      <th>likes</th>\n",
       "      <th>num_photos</th>\n",
       "    </tr>\n",
       "    <tr>\n",
       "      <th>business_id</th>\n",
       "      <th>review_id</th>\n",
       "      <th></th>\n",
       "      <th></th>\n",
       "      <th></th>\n",
       "      <th></th>\n",
       "      <th></th>\n",
       "      <th></th>\n",
       "      <th></th>\n",
       "      <th></th>\n",
       "      <th></th>\n",
       "      <th></th>\n",
       "      <th></th>\n",
       "      <th></th>\n",
       "      <th></th>\n",
       "      <th></th>\n",
       "      <th></th>\n",
       "      <th></th>\n",
       "      <th></th>\n",
       "      <th></th>\n",
       "      <th></th>\n",
       "      <th></th>\n",
       "      <th></th>\n",
       "    </tr>\n",
       "  </thead>\n",
       "  <tbody>\n",
       "    <tr>\n",
       "      <th rowspan=\"5\" valign=\"top\">KbLI0QELlAwbfDUVwo43DQ</th>\n",
       "      <th>HpqaGoLFaio3PZobs_dhew</th>\n",
       "      <td>222</td>\n",
       "      <td>4.0</td>\n",
       "      <td>Charlotte,NC</td>\n",
       "      <td>2.0</td>\n",
       "      <td>1</td>\n",
       "      <td>1</td>\n",
       "      <td>1</td>\n",
       "      <td>1</td>\n",
       "      <td>casual</td>\n",
       "      <td>0</td>\n",
       "      <td>...</td>\n",
       "      <td>0</td>\n",
       "      <td>0</td>\n",
       "      <td>0</td>\n",
       "      <td>45</td>\n",
       "      <td>2</td>\n",
       "      <td>16</td>\n",
       "      <td>5</td>\n",
       "      <td>1332892800000000000</td>\n",
       "      <td>0</td>\n",
       "      <td>2</td>\n",
       "    </tr>\n",
       "    <tr>\n",
       "      <th>mzFgl5bYVhytcdOd7J9kLw</th>\n",
       "      <td>222</td>\n",
       "      <td>4.0</td>\n",
       "      <td>Charlotte,NC</td>\n",
       "      <td>2.0</td>\n",
       "      <td>1</td>\n",
       "      <td>1</td>\n",
       "      <td>1</td>\n",
       "      <td>1</td>\n",
       "      <td>casual</td>\n",
       "      <td>0</td>\n",
       "      <td>...</td>\n",
       "      <td>86</td>\n",
       "      <td>2</td>\n",
       "      <td>44</td>\n",
       "      <td>188</td>\n",
       "      <td>36</td>\n",
       "      <td>700</td>\n",
       "      <td>43</td>\n",
       "      <td>1441756800000000000</td>\n",
       "      <td>0</td>\n",
       "      <td>2</td>\n",
       "    </tr>\n",
       "    <tr>\n",
       "      <th>lSpQGob-ceMRQvKBadkdZQ</th>\n",
       "      <td>222</td>\n",
       "      <td>4.0</td>\n",
       "      <td>Charlotte,NC</td>\n",
       "      <td>2.0</td>\n",
       "      <td>1</td>\n",
       "      <td>1</td>\n",
       "      <td>1</td>\n",
       "      <td>1</td>\n",
       "      <td>casual</td>\n",
       "      <td>0</td>\n",
       "      <td>...</td>\n",
       "      <td>1111</td>\n",
       "      <td>9</td>\n",
       "      <td>127</td>\n",
       "      <td>398</td>\n",
       "      <td>782</td>\n",
       "      <td>2140</td>\n",
       "      <td>2349</td>\n",
       "      <td>1103414400000000000</td>\n",
       "      <td>0</td>\n",
       "      <td>2</td>\n",
       "    </tr>\n",
       "    <tr>\n",
       "      <th>FOBYZZBsWsTnn4gu1prCcg</th>\n",
       "      <td>222</td>\n",
       "      <td>4.0</td>\n",
       "      <td>Charlotte,NC</td>\n",
       "      <td>2.0</td>\n",
       "      <td>1</td>\n",
       "      <td>1</td>\n",
       "      <td>1</td>\n",
       "      <td>1</td>\n",
       "      <td>casual</td>\n",
       "      <td>0</td>\n",
       "      <td>...</td>\n",
       "      <td>18</td>\n",
       "      <td>5</td>\n",
       "      <td>8</td>\n",
       "      <td>162</td>\n",
       "      <td>26</td>\n",
       "      <td>203</td>\n",
       "      <td>114</td>\n",
       "      <td>1237161600000000000</td>\n",
       "      <td>0</td>\n",
       "      <td>2</td>\n",
       "    </tr>\n",
       "    <tr>\n",
       "      <th>7C2lKvcB-fSkv8AYsuHfgg</th>\n",
       "      <td>222</td>\n",
       "      <td>4.0</td>\n",
       "      <td>Charlotte,NC</td>\n",
       "      <td>2.0</td>\n",
       "      <td>1</td>\n",
       "      <td>1</td>\n",
       "      <td>1</td>\n",
       "      <td>1</td>\n",
       "      <td>casual</td>\n",
       "      <td>0</td>\n",
       "      <td>...</td>\n",
       "      <td>12</td>\n",
       "      <td>4</td>\n",
       "      <td>18</td>\n",
       "      <td>152</td>\n",
       "      <td>5</td>\n",
       "      <td>124</td>\n",
       "      <td>21</td>\n",
       "      <td>1293840000000000000</td>\n",
       "      <td>1</td>\n",
       "      <td>2</td>\n",
       "    </tr>\n",
       "  </tbody>\n",
       "</table>\n",
       "<p>5 rows × 47 columns</p>\n",
       "</div>"
      ],
      "text/plain": [
       "                                               business_review_count  \\\n",
       "business_id            review_id                                       \n",
       "KbLI0QELlAwbfDUVwo43DQ HpqaGoLFaio3PZobs_dhew                    222   \n",
       "                       mzFgl5bYVhytcdOd7J9kLw                    222   \n",
       "                       lSpQGob-ceMRQvKBadkdZQ                    222   \n",
       "                       FOBYZZBsWsTnn4gu1prCcg                    222   \n",
       "                       7C2lKvcB-fSkv8AYsuHfgg                    222   \n",
       "\n",
       "                                               avg_business_stars  \\\n",
       "business_id            review_id                                    \n",
       "KbLI0QELlAwbfDUVwo43DQ HpqaGoLFaio3PZobs_dhew                 4.0   \n",
       "                       mzFgl5bYVhytcdOd7J9kLw                 4.0   \n",
       "                       lSpQGob-ceMRQvKBadkdZQ                 4.0   \n",
       "                       FOBYZZBsWsTnn4gu1prCcg                 4.0   \n",
       "                       7C2lKvcB-fSkv8AYsuHfgg                 4.0   \n",
       "\n",
       "                                                   location  \\\n",
       "business_id            review_id                              \n",
       "KbLI0QELlAwbfDUVwo43DQ HpqaGoLFaio3PZobs_dhew  Charlotte,NC   \n",
       "                       mzFgl5bYVhytcdOd7J9kLw  Charlotte,NC   \n",
       "                       lSpQGob-ceMRQvKBadkdZQ  Charlotte,NC   \n",
       "                       FOBYZZBsWsTnn4gu1prCcg  Charlotte,NC   \n",
       "                       7C2lKvcB-fSkv8AYsuHfgg  Charlotte,NC   \n",
       "\n",
       "                                              RestaurantsPriceRange2  \\\n",
       "business_id            review_id                                       \n",
       "KbLI0QELlAwbfDUVwo43DQ HpqaGoLFaio3PZobs_dhew                    2.0   \n",
       "                       mzFgl5bYVhytcdOd7J9kLw                    2.0   \n",
       "                       lSpQGob-ceMRQvKBadkdZQ                    2.0   \n",
       "                       FOBYZZBsWsTnn4gu1prCcg                    2.0   \n",
       "                       7C2lKvcB-fSkv8AYsuHfgg                    2.0   \n",
       "\n",
       "                                              RestaurantsTakeOut  \\\n",
       "business_id            review_id                                   \n",
       "KbLI0QELlAwbfDUVwo43DQ HpqaGoLFaio3PZobs_dhew                  1   \n",
       "                       mzFgl5bYVhytcdOd7J9kLw                  1   \n",
       "                       lSpQGob-ceMRQvKBadkdZQ                  1   \n",
       "                       FOBYZZBsWsTnn4gu1prCcg                  1   \n",
       "                       7C2lKvcB-fSkv8AYsuHfgg                  1   \n",
       "\n",
       "                                              RestaurantsGoodForGroups  \\\n",
       "business_id            review_id                                         \n",
       "KbLI0QELlAwbfDUVwo43DQ HpqaGoLFaio3PZobs_dhew                        1   \n",
       "                       mzFgl5bYVhytcdOd7J9kLw                        1   \n",
       "                       lSpQGob-ceMRQvKBadkdZQ                        1   \n",
       "                       FOBYZZBsWsTnn4gu1prCcg                        1   \n",
       "                       7C2lKvcB-fSkv8AYsuHfgg                        1   \n",
       "\n",
       "                                              BusinessAcceptsCreditCards  \\\n",
       "business_id            review_id                                           \n",
       "KbLI0QELlAwbfDUVwo43DQ HpqaGoLFaio3PZobs_dhew                          1   \n",
       "                       mzFgl5bYVhytcdOd7J9kLw                          1   \n",
       "                       lSpQGob-ceMRQvKBadkdZQ                          1   \n",
       "                       FOBYZZBsWsTnn4gu1prCcg                          1   \n",
       "                       7C2lKvcB-fSkv8AYsuHfgg                          1   \n",
       "\n",
       "                                              GoodForKids RestaurantsAttire  \\\n",
       "business_id            review_id                                              \n",
       "KbLI0QELlAwbfDUVwo43DQ HpqaGoLFaio3PZobs_dhew           1            casual   \n",
       "                       mzFgl5bYVhytcdOd7J9kLw           1            casual   \n",
       "                       lSpQGob-ceMRQvKBadkdZQ           1            casual   \n",
       "                       FOBYZZBsWsTnn4gu1prCcg           1            casual   \n",
       "                       7C2lKvcB-fSkv8AYsuHfgg           1            casual   \n",
       "\n",
       "                                              RestaurantsReservations  \\\n",
       "business_id            review_id                                        \n",
       "KbLI0QELlAwbfDUVwo43DQ HpqaGoLFaio3PZobs_dhew                       0   \n",
       "                       mzFgl5bYVhytcdOd7J9kLw                       0   \n",
       "                       lSpQGob-ceMRQvKBadkdZQ                       0   \n",
       "                       FOBYZZBsWsTnn4gu1prCcg                       0   \n",
       "                       7C2lKvcB-fSkv8AYsuHfgg                       0   \n",
       "\n",
       "                                                 ...      cool elite fans  \\\n",
       "business_id            review_id                 ...                        \n",
       "KbLI0QELlAwbfDUVwo43DQ HpqaGoLFaio3PZobs_dhew    ...         0     0    0   \n",
       "                       mzFgl5bYVhytcdOd7J9kLw    ...        86     2   44   \n",
       "                       lSpQGob-ceMRQvKBadkdZQ    ...      1111     9  127   \n",
       "                       FOBYZZBsWsTnn4gu1prCcg    ...        18     5    8   \n",
       "                       7C2lKvcB-fSkv8AYsuHfgg    ...        12     4   18   \n",
       "\n",
       "                                              friends funny user_review_count  \\\n",
       "business_id            review_id                                                \n",
       "KbLI0QELlAwbfDUVwo43DQ HpqaGoLFaio3PZobs_dhew      45     2                16   \n",
       "                       mzFgl5bYVhytcdOd7J9kLw     188    36               700   \n",
       "                       lSpQGob-ceMRQvKBadkdZQ     398   782              2140   \n",
       "                       FOBYZZBsWsTnn4gu1prCcg     162    26               203   \n",
       "                       7C2lKvcB-fSkv8AYsuHfgg     152     5               124   \n",
       "\n",
       "                                              useful        yelping_since  \\\n",
       "business_id            review_id                                            \n",
       "KbLI0QELlAwbfDUVwo43DQ HpqaGoLFaio3PZobs_dhew      5  1332892800000000000   \n",
       "                       mzFgl5bYVhytcdOd7J9kLw     43  1441756800000000000   \n",
       "                       lSpQGob-ceMRQvKBadkdZQ   2349  1103414400000000000   \n",
       "                       FOBYZZBsWsTnn4gu1prCcg    114  1237161600000000000   \n",
       "                       7C2lKvcB-fSkv8AYsuHfgg     21  1293840000000000000   \n",
       "\n",
       "                                              likes num_photos  \n",
       "business_id            review_id                                \n",
       "KbLI0QELlAwbfDUVwo43DQ HpqaGoLFaio3PZobs_dhew     0          2  \n",
       "                       mzFgl5bYVhytcdOd7J9kLw     0          2  \n",
       "                       lSpQGob-ceMRQvKBadkdZQ     0          2  \n",
       "                       FOBYZZBsWsTnn4gu1prCcg     0          2  \n",
       "                       7C2lKvcB-fSkv8AYsuHfgg     1          2  \n",
       "\n",
       "[5 rows x 47 columns]"
      ]
     },
     "execution_count": 10,
     "metadata": {},
     "output_type": "execute_result"
    }
   ],
   "source": [
    "table.head()"
   ]
  },
  {
   "cell_type": "code",
   "execution_count": 11,
   "metadata": {},
   "outputs": [],
   "source": [
    "table[\"target\"] = (table.stars== 5)"
   ]
  },
  {
   "cell_type": "code",
   "execution_count": 12,
   "metadata": {},
   "outputs": [
    {
     "data": {
      "text/plain": [
       "0.35847800476348751"
      ]
     },
     "execution_count": 12,
     "metadata": {},
     "output_type": "execute_result"
    }
   ],
   "source": [
    "table[\"target\"].sum()/table[\"target\"].shape[0]"
   ]
  },
  {
   "cell_type": "markdown",
   "metadata": {},
   "source": [
    "we must drop \"stars\" as if we don't know what rating the customer is going to give."
   ]
  },
  {
   "cell_type": "code",
   "execution_count": 13,
   "metadata": {
    "collapsed": true
   },
   "outputs": [],
   "source": [
    "table.drop(\"stars\",axis = 1,inplace= True)"
   ]
  },
  {
   "cell_type": "code",
   "execution_count": 14,
   "metadata": {},
   "outputs": [
    {
     "data": {
      "text/plain": [
       "business_review_count           int64\n",
       "avg_business_stars            float64\n",
       "location                       object\n",
       "RestaurantsPriceRange2         object\n",
       "RestaurantsTakeOut             object\n",
       "RestaurantsGoodForGroups       object\n",
       "BusinessAcceptsCreditCards     object\n",
       "GoodForKids                    object\n",
       "RestaurantsAttire              object\n",
       "RestaurantsReservations        object\n",
       "OutdoorSeating                 object\n",
       "RestaurantsDelivery            object\n",
       "GoodForMeal.dinner             object\n",
       "GoodForMeal.latenight          object\n",
       "GoodForMeal.breakfast          object\n",
       "GoodForMeal.dessert            object\n",
       "GoodForMeal.brunch             object\n",
       "GoodForMeal.lunch              object\n",
       "BusinessParking.valet          object\n",
       "BusinessParking.street         object\n",
       "BusinessParking.lot            object\n",
       "BusinessParking.garage         object\n",
       "Alcohol                        object\n",
       "user_id                        object\n",
       "average_stars                 float64\n",
       "compliment_cool                 int64\n",
       "compliment_cute                 int64\n",
       "compliment_funny                int64\n",
       "compliment_hot                  int64\n",
       "compliment_list                 int64\n",
       "compliment_more                 int64\n",
       "compliment_note                 int64\n",
       "compliment_photos               int64\n",
       "compliment_plain                int64\n",
       "compliment_profile              int64\n",
       "compliment_writer               int64\n",
       "cool                            int64\n",
       "elite                           int64\n",
       "fans                            int64\n",
       "friends                         int64\n",
       "funny                           int64\n",
       "user_review_count               int64\n",
       "useful                          int64\n",
       "yelping_since                   int64\n",
       "likes                           int64\n",
       "num_photos                      int64\n",
       "target                           bool\n",
       "dtype: object"
      ]
     },
     "execution_count": 14,
     "metadata": {},
     "output_type": "execute_result"
    }
   ],
   "source": [
    "table.dtypes"
   ]
  },
  {
   "cell_type": "code",
   "execution_count": 15,
   "metadata": {},
   "outputs": [
    {
     "data": {
      "text/plain": [
       "['business_review_count',\n",
       " 'avg_business_stars',\n",
       " 'location',\n",
       " 'RestaurantsPriceRange2',\n",
       " 'RestaurantsTakeOut',\n",
       " 'RestaurantsGoodForGroups',\n",
       " 'BusinessAcceptsCreditCards',\n",
       " 'GoodForKids',\n",
       " 'RestaurantsAttire',\n",
       " 'RestaurantsReservations',\n",
       " 'OutdoorSeating',\n",
       " 'RestaurantsDelivery',\n",
       " 'GoodForMeal.dinner',\n",
       " 'GoodForMeal.latenight',\n",
       " 'GoodForMeal.breakfast',\n",
       " 'GoodForMeal.dessert',\n",
       " 'GoodForMeal.brunch',\n",
       " 'GoodForMeal.lunch',\n",
       " 'BusinessParking.valet',\n",
       " 'BusinessParking.street',\n",
       " 'BusinessParking.lot',\n",
       " 'BusinessParking.garage',\n",
       " 'Alcohol',\n",
       " 'user_id',\n",
       " 'average_stars',\n",
       " 'compliment_cool',\n",
       " 'compliment_cute',\n",
       " 'compliment_funny',\n",
       " 'compliment_hot',\n",
       " 'compliment_list',\n",
       " 'compliment_more',\n",
       " 'compliment_note',\n",
       " 'compliment_photos',\n",
       " 'compliment_plain',\n",
       " 'compliment_profile',\n",
       " 'compliment_writer',\n",
       " 'cool',\n",
       " 'elite',\n",
       " 'fans',\n",
       " 'friends',\n",
       " 'funny',\n",
       " 'user_review_count',\n",
       " 'useful',\n",
       " 'yelping_since',\n",
       " 'likes',\n",
       " 'num_photos',\n",
       " 'target']"
      ]
     },
     "execution_count": 15,
     "metadata": {},
     "output_type": "execute_result"
    }
   ],
   "source": [
    "list(table.columns)"
   ]
  },
  {
   "cell_type": "markdown",
   "metadata": {},
   "source": [
    "reorganize table and drop user id."
   ]
  },
  {
   "cell_type": "code",
   "execution_count": 19,
   "metadata": {},
   "outputs": [],
   "source": [
    "table = table[\n",
    "['location',\n",
    " 'RestaurantsPriceRange2',\n",
    " 'RestaurantsTakeOut',\n",
    " 'RestaurantsGoodForGroups',\n",
    " 'BusinessAcceptsCreditCards',\n",
    " 'GoodForKids',\n",
    " 'RestaurantsAttire',\n",
    " 'RestaurantsReservations',\n",
    " 'OutdoorSeating',\n",
    " 'RestaurantsDelivery',\n",
    " 'GoodForMeal.dinner',\n",
    " 'GoodForMeal.latenight',\n",
    " 'GoodForMeal.breakfast',\n",
    " 'GoodForMeal.dessert',\n",
    " 'GoodForMeal.brunch',\n",
    " 'GoodForMeal.lunch',\n",
    " 'BusinessParking.valet',\n",
    " 'BusinessParking.street',\n",
    " 'BusinessParking.lot',\n",
    " 'BusinessParking.garage',\n",
    " 'Alcohol',\n",
    " 'business_review_count',\n",
    " 'avg_business_stars',\n",
    " 'average_stars',\n",
    " 'compliment_cool',\n",
    " 'compliment_cute',\n",
    " 'compliment_funny',\n",
    " 'compliment_hot',\n",
    " 'compliment_list',\n",
    " 'compliment_more',\n",
    " 'compliment_note',\n",
    " 'compliment_photos',\n",
    " 'compliment_plain',\n",
    " 'compliment_profile',\n",
    " 'compliment_writer',\n",
    " 'cool',\n",
    " 'elite',\n",
    " 'fans',\n",
    " 'friends',\n",
    " 'funny',\n",
    " 'user_review_count',\n",
    " 'useful',\n",
    " 'yelping_since',\n",
    " 'likes',\n",
    " 'num_photos',\n",
    " 'target']]"
   ]
  },
  {
   "cell_type": "markdown",
   "metadata": {},
   "source": [
    "# Dummy varibles transformation."
   ]
  },
  {
   "cell_type": "code",
   "execution_count": 20,
   "metadata": {},
   "outputs": [
    {
     "data": {
      "text/html": [
       "<div>\n",
       "<style>\n",
       "    .dataframe thead tr:only-child th {\n",
       "        text-align: right;\n",
       "    }\n",
       "\n",
       "    .dataframe thead th {\n",
       "        text-align: left;\n",
       "    }\n",
       "\n",
       "    .dataframe tbody tr th {\n",
       "        vertical-align: top;\n",
       "    }\n",
       "</style>\n",
       "<table border=\"1\" class=\"dataframe\">\n",
       "  <thead>\n",
       "    <tr style=\"text-align: right;\">\n",
       "      <th></th>\n",
       "      <th></th>\n",
       "      <th>location</th>\n",
       "      <th>RestaurantsPriceRange2</th>\n",
       "      <th>RestaurantsTakeOut</th>\n",
       "      <th>RestaurantsGoodForGroups</th>\n",
       "      <th>BusinessAcceptsCreditCards</th>\n",
       "      <th>GoodForKids</th>\n",
       "      <th>RestaurantsAttire</th>\n",
       "      <th>RestaurantsReservations</th>\n",
       "      <th>OutdoorSeating</th>\n",
       "      <th>RestaurantsDelivery</th>\n",
       "      <th>...</th>\n",
       "      <th>elite</th>\n",
       "      <th>fans</th>\n",
       "      <th>friends</th>\n",
       "      <th>funny</th>\n",
       "      <th>user_review_count</th>\n",
       "      <th>useful</th>\n",
       "      <th>yelping_since</th>\n",
       "      <th>likes</th>\n",
       "      <th>num_photos</th>\n",
       "      <th>target</th>\n",
       "    </tr>\n",
       "    <tr>\n",
       "      <th>business_id</th>\n",
       "      <th>review_id</th>\n",
       "      <th></th>\n",
       "      <th></th>\n",
       "      <th></th>\n",
       "      <th></th>\n",
       "      <th></th>\n",
       "      <th></th>\n",
       "      <th></th>\n",
       "      <th></th>\n",
       "      <th></th>\n",
       "      <th></th>\n",
       "      <th></th>\n",
       "      <th></th>\n",
       "      <th></th>\n",
       "      <th></th>\n",
       "      <th></th>\n",
       "      <th></th>\n",
       "      <th></th>\n",
       "      <th></th>\n",
       "      <th></th>\n",
       "      <th></th>\n",
       "      <th></th>\n",
       "    </tr>\n",
       "  </thead>\n",
       "  <tbody>\n",
       "    <tr>\n",
       "      <th rowspan=\"5\" valign=\"top\">KbLI0QELlAwbfDUVwo43DQ</th>\n",
       "      <th>HpqaGoLFaio3PZobs_dhew</th>\n",
       "      <td>Charlotte,NC</td>\n",
       "      <td>2.0</td>\n",
       "      <td>1</td>\n",
       "      <td>1</td>\n",
       "      <td>1</td>\n",
       "      <td>1</td>\n",
       "      <td>casual</td>\n",
       "      <td>0</td>\n",
       "      <td>0</td>\n",
       "      <td>0</td>\n",
       "      <td>...</td>\n",
       "      <td>0</td>\n",
       "      <td>0</td>\n",
       "      <td>45</td>\n",
       "      <td>2</td>\n",
       "      <td>16</td>\n",
       "      <td>5</td>\n",
       "      <td>1332892800000000000</td>\n",
       "      <td>0</td>\n",
       "      <td>2</td>\n",
       "      <td>False</td>\n",
       "    </tr>\n",
       "    <tr>\n",
       "      <th>mzFgl5bYVhytcdOd7J9kLw</th>\n",
       "      <td>Charlotte,NC</td>\n",
       "      <td>2.0</td>\n",
       "      <td>1</td>\n",
       "      <td>1</td>\n",
       "      <td>1</td>\n",
       "      <td>1</td>\n",
       "      <td>casual</td>\n",
       "      <td>0</td>\n",
       "      <td>0</td>\n",
       "      <td>0</td>\n",
       "      <td>...</td>\n",
       "      <td>2</td>\n",
       "      <td>44</td>\n",
       "      <td>188</td>\n",
       "      <td>36</td>\n",
       "      <td>700</td>\n",
       "      <td>43</td>\n",
       "      <td>1441756800000000000</td>\n",
       "      <td>0</td>\n",
       "      <td>2</td>\n",
       "      <td>False</td>\n",
       "    </tr>\n",
       "    <tr>\n",
       "      <th>lSpQGob-ceMRQvKBadkdZQ</th>\n",
       "      <td>Charlotte,NC</td>\n",
       "      <td>2.0</td>\n",
       "      <td>1</td>\n",
       "      <td>1</td>\n",
       "      <td>1</td>\n",
       "      <td>1</td>\n",
       "      <td>casual</td>\n",
       "      <td>0</td>\n",
       "      <td>0</td>\n",
       "      <td>0</td>\n",
       "      <td>...</td>\n",
       "      <td>9</td>\n",
       "      <td>127</td>\n",
       "      <td>398</td>\n",
       "      <td>782</td>\n",
       "      <td>2140</td>\n",
       "      <td>2349</td>\n",
       "      <td>1103414400000000000</td>\n",
       "      <td>0</td>\n",
       "      <td>2</td>\n",
       "      <td>False</td>\n",
       "    </tr>\n",
       "    <tr>\n",
       "      <th>FOBYZZBsWsTnn4gu1prCcg</th>\n",
       "      <td>Charlotte,NC</td>\n",
       "      <td>2.0</td>\n",
       "      <td>1</td>\n",
       "      <td>1</td>\n",
       "      <td>1</td>\n",
       "      <td>1</td>\n",
       "      <td>casual</td>\n",
       "      <td>0</td>\n",
       "      <td>0</td>\n",
       "      <td>0</td>\n",
       "      <td>...</td>\n",
       "      <td>5</td>\n",
       "      <td>8</td>\n",
       "      <td>162</td>\n",
       "      <td>26</td>\n",
       "      <td>203</td>\n",
       "      <td>114</td>\n",
       "      <td>1237161600000000000</td>\n",
       "      <td>0</td>\n",
       "      <td>2</td>\n",
       "      <td>False</td>\n",
       "    </tr>\n",
       "    <tr>\n",
       "      <th>7C2lKvcB-fSkv8AYsuHfgg</th>\n",
       "      <td>Charlotte,NC</td>\n",
       "      <td>2.0</td>\n",
       "      <td>1</td>\n",
       "      <td>1</td>\n",
       "      <td>1</td>\n",
       "      <td>1</td>\n",
       "      <td>casual</td>\n",
       "      <td>0</td>\n",
       "      <td>0</td>\n",
       "      <td>0</td>\n",
       "      <td>...</td>\n",
       "      <td>4</td>\n",
       "      <td>18</td>\n",
       "      <td>152</td>\n",
       "      <td>5</td>\n",
       "      <td>124</td>\n",
       "      <td>21</td>\n",
       "      <td>1293840000000000000</td>\n",
       "      <td>1</td>\n",
       "      <td>2</td>\n",
       "      <td>True</td>\n",
       "    </tr>\n",
       "  </tbody>\n",
       "</table>\n",
       "<p>5 rows × 46 columns</p>\n",
       "</div>"
      ],
      "text/plain": [
       "                                                   location  \\\n",
       "business_id            review_id                              \n",
       "KbLI0QELlAwbfDUVwo43DQ HpqaGoLFaio3PZobs_dhew  Charlotte,NC   \n",
       "                       mzFgl5bYVhytcdOd7J9kLw  Charlotte,NC   \n",
       "                       lSpQGob-ceMRQvKBadkdZQ  Charlotte,NC   \n",
       "                       FOBYZZBsWsTnn4gu1prCcg  Charlotte,NC   \n",
       "                       7C2lKvcB-fSkv8AYsuHfgg  Charlotte,NC   \n",
       "\n",
       "                                              RestaurantsPriceRange2  \\\n",
       "business_id            review_id                                       \n",
       "KbLI0QELlAwbfDUVwo43DQ HpqaGoLFaio3PZobs_dhew                    2.0   \n",
       "                       mzFgl5bYVhytcdOd7J9kLw                    2.0   \n",
       "                       lSpQGob-ceMRQvKBadkdZQ                    2.0   \n",
       "                       FOBYZZBsWsTnn4gu1prCcg                    2.0   \n",
       "                       7C2lKvcB-fSkv8AYsuHfgg                    2.0   \n",
       "\n",
       "                                              RestaurantsTakeOut  \\\n",
       "business_id            review_id                                   \n",
       "KbLI0QELlAwbfDUVwo43DQ HpqaGoLFaio3PZobs_dhew                  1   \n",
       "                       mzFgl5bYVhytcdOd7J9kLw                  1   \n",
       "                       lSpQGob-ceMRQvKBadkdZQ                  1   \n",
       "                       FOBYZZBsWsTnn4gu1prCcg                  1   \n",
       "                       7C2lKvcB-fSkv8AYsuHfgg                  1   \n",
       "\n",
       "                                              RestaurantsGoodForGroups  \\\n",
       "business_id            review_id                                         \n",
       "KbLI0QELlAwbfDUVwo43DQ HpqaGoLFaio3PZobs_dhew                        1   \n",
       "                       mzFgl5bYVhytcdOd7J9kLw                        1   \n",
       "                       lSpQGob-ceMRQvKBadkdZQ                        1   \n",
       "                       FOBYZZBsWsTnn4gu1prCcg                        1   \n",
       "                       7C2lKvcB-fSkv8AYsuHfgg                        1   \n",
       "\n",
       "                                              BusinessAcceptsCreditCards  \\\n",
       "business_id            review_id                                           \n",
       "KbLI0QELlAwbfDUVwo43DQ HpqaGoLFaio3PZobs_dhew                          1   \n",
       "                       mzFgl5bYVhytcdOd7J9kLw                          1   \n",
       "                       lSpQGob-ceMRQvKBadkdZQ                          1   \n",
       "                       FOBYZZBsWsTnn4gu1prCcg                          1   \n",
       "                       7C2lKvcB-fSkv8AYsuHfgg                          1   \n",
       "\n",
       "                                              GoodForKids RestaurantsAttire  \\\n",
       "business_id            review_id                                              \n",
       "KbLI0QELlAwbfDUVwo43DQ HpqaGoLFaio3PZobs_dhew           1            casual   \n",
       "                       mzFgl5bYVhytcdOd7J9kLw           1            casual   \n",
       "                       lSpQGob-ceMRQvKBadkdZQ           1            casual   \n",
       "                       FOBYZZBsWsTnn4gu1prCcg           1            casual   \n",
       "                       7C2lKvcB-fSkv8AYsuHfgg           1            casual   \n",
       "\n",
       "                                              RestaurantsReservations  \\\n",
       "business_id            review_id                                        \n",
       "KbLI0QELlAwbfDUVwo43DQ HpqaGoLFaio3PZobs_dhew                       0   \n",
       "                       mzFgl5bYVhytcdOd7J9kLw                       0   \n",
       "                       lSpQGob-ceMRQvKBadkdZQ                       0   \n",
       "                       FOBYZZBsWsTnn4gu1prCcg                       0   \n",
       "                       7C2lKvcB-fSkv8AYsuHfgg                       0   \n",
       "\n",
       "                                              OutdoorSeating  \\\n",
       "business_id            review_id                               \n",
       "KbLI0QELlAwbfDUVwo43DQ HpqaGoLFaio3PZobs_dhew              0   \n",
       "                       mzFgl5bYVhytcdOd7J9kLw              0   \n",
       "                       lSpQGob-ceMRQvKBadkdZQ              0   \n",
       "                       FOBYZZBsWsTnn4gu1prCcg              0   \n",
       "                       7C2lKvcB-fSkv8AYsuHfgg              0   \n",
       "\n",
       "                                              RestaurantsDelivery  ...    \\\n",
       "business_id            review_id                                   ...     \n",
       "KbLI0QELlAwbfDUVwo43DQ HpqaGoLFaio3PZobs_dhew                   0  ...     \n",
       "                       mzFgl5bYVhytcdOd7J9kLw                   0  ...     \n",
       "                       lSpQGob-ceMRQvKBadkdZQ                   0  ...     \n",
       "                       FOBYZZBsWsTnn4gu1prCcg                   0  ...     \n",
       "                       7C2lKvcB-fSkv8AYsuHfgg                   0  ...     \n",
       "\n",
       "                                              elite fans friends funny  \\\n",
       "business_id            review_id                                         \n",
       "KbLI0QELlAwbfDUVwo43DQ HpqaGoLFaio3PZobs_dhew     0    0      45     2   \n",
       "                       mzFgl5bYVhytcdOd7J9kLw     2   44     188    36   \n",
       "                       lSpQGob-ceMRQvKBadkdZQ     9  127     398   782   \n",
       "                       FOBYZZBsWsTnn4gu1prCcg     5    8     162    26   \n",
       "                       7C2lKvcB-fSkv8AYsuHfgg     4   18     152     5   \n",
       "\n",
       "                                              user_review_count useful  \\\n",
       "business_id            review_id                                         \n",
       "KbLI0QELlAwbfDUVwo43DQ HpqaGoLFaio3PZobs_dhew                16      5   \n",
       "                       mzFgl5bYVhytcdOd7J9kLw               700     43   \n",
       "                       lSpQGob-ceMRQvKBadkdZQ              2140   2349   \n",
       "                       FOBYZZBsWsTnn4gu1prCcg               203    114   \n",
       "                       7C2lKvcB-fSkv8AYsuHfgg               124     21   \n",
       "\n",
       "                                                     yelping_since likes  \\\n",
       "business_id            review_id                                           \n",
       "KbLI0QELlAwbfDUVwo43DQ HpqaGoLFaio3PZobs_dhew  1332892800000000000     0   \n",
       "                       mzFgl5bYVhytcdOd7J9kLw  1441756800000000000     0   \n",
       "                       lSpQGob-ceMRQvKBadkdZQ  1103414400000000000     0   \n",
       "                       FOBYZZBsWsTnn4gu1prCcg  1237161600000000000     0   \n",
       "                       7C2lKvcB-fSkv8AYsuHfgg  1293840000000000000     1   \n",
       "\n",
       "                                              num_photos target  \n",
       "business_id            review_id                                 \n",
       "KbLI0QELlAwbfDUVwo43DQ HpqaGoLFaio3PZobs_dhew          2  False  \n",
       "                       mzFgl5bYVhytcdOd7J9kLw          2  False  \n",
       "                       lSpQGob-ceMRQvKBadkdZQ          2  False  \n",
       "                       FOBYZZBsWsTnn4gu1prCcg          2  False  \n",
       "                       7C2lKvcB-fSkv8AYsuHfgg          2   True  \n",
       "\n",
       "[5 rows x 46 columns]"
      ]
     },
     "execution_count": 20,
     "metadata": {},
     "output_type": "execute_result"
    }
   ],
   "source": [
    "table.head()"
   ]
  },
  {
   "cell_type": "code",
   "execution_count": 21,
   "metadata": {},
   "outputs": [
    {
     "data": {
      "text/plain": [
       "(1016902, 46)"
      ]
     },
     "execution_count": 21,
     "metadata": {},
     "output_type": "execute_result"
    }
   ],
   "source": [
    "table.shape"
   ]
  },
  {
   "cell_type": "code",
   "execution_count": 22,
   "metadata": {
    "scrolled": true
   },
   "outputs": [
    {
     "name": "stderr",
     "output_type": "stream",
     "text": [
      "C:\\Users\\leiwen\\Anaconda3\\lib\\site-packages\\ipykernel_launcher.py:1: DeprecationWarning: \n",
      ".ix is deprecated. Please use\n",
      ".loc for label based indexing or\n",
      ".iloc for positional indexing\n",
      "\n",
      "See the documentation here:\n",
      "http://pandas.pydata.org/pandas-docs/stable/indexing.html#ix-indexer-is-deprecated\n",
      "  \"\"\"Entry point for launching an IPython kernel.\n"
     ]
    },
    {
     "data": {
      "text/html": [
       "<div>\n",
       "<style>\n",
       "    .dataframe thead tr:only-child th {\n",
       "        text-align: right;\n",
       "    }\n",
       "\n",
       "    .dataframe thead th {\n",
       "        text-align: left;\n",
       "    }\n",
       "\n",
       "    .dataframe tbody tr th {\n",
       "        vertical-align: top;\n",
       "    }\n",
       "</style>\n",
       "<table border=\"1\" class=\"dataframe\">\n",
       "  <thead>\n",
       "    <tr style=\"text-align: right;\">\n",
       "      <th></th>\n",
       "      <th></th>\n",
       "      <th>location</th>\n",
       "      <th>RestaurantsPriceRange2</th>\n",
       "      <th>RestaurantsTakeOut</th>\n",
       "      <th>RestaurantsGoodForGroups</th>\n",
       "      <th>BusinessAcceptsCreditCards</th>\n",
       "      <th>GoodForKids</th>\n",
       "      <th>RestaurantsAttire</th>\n",
       "      <th>RestaurantsReservations</th>\n",
       "      <th>OutdoorSeating</th>\n",
       "      <th>RestaurantsDelivery</th>\n",
       "      <th>...</th>\n",
       "      <th>GoodForMeal.latenight</th>\n",
       "      <th>GoodForMeal.breakfast</th>\n",
       "      <th>GoodForMeal.dessert</th>\n",
       "      <th>GoodForMeal.brunch</th>\n",
       "      <th>GoodForMeal.lunch</th>\n",
       "      <th>BusinessParking.valet</th>\n",
       "      <th>BusinessParking.street</th>\n",
       "      <th>BusinessParking.lot</th>\n",
       "      <th>BusinessParking.garage</th>\n",
       "      <th>Alcohol</th>\n",
       "    </tr>\n",
       "    <tr>\n",
       "      <th>business_id</th>\n",
       "      <th>review_id</th>\n",
       "      <th></th>\n",
       "      <th></th>\n",
       "      <th></th>\n",
       "      <th></th>\n",
       "      <th></th>\n",
       "      <th></th>\n",
       "      <th></th>\n",
       "      <th></th>\n",
       "      <th></th>\n",
       "      <th></th>\n",
       "      <th></th>\n",
       "      <th></th>\n",
       "      <th></th>\n",
       "      <th></th>\n",
       "      <th></th>\n",
       "      <th></th>\n",
       "      <th></th>\n",
       "      <th></th>\n",
       "      <th></th>\n",
       "      <th></th>\n",
       "      <th></th>\n",
       "    </tr>\n",
       "  </thead>\n",
       "  <tbody>\n",
       "    <tr>\n",
       "      <th rowspan=\"3\" valign=\"top\">KbLI0QELlAwbfDUVwo43DQ</th>\n",
       "      <th>HpqaGoLFaio3PZobs_dhew</th>\n",
       "      <td>Charlotte,NC</td>\n",
       "      <td>2.0</td>\n",
       "      <td>1</td>\n",
       "      <td>1</td>\n",
       "      <td>1</td>\n",
       "      <td>1</td>\n",
       "      <td>casual</td>\n",
       "      <td>0</td>\n",
       "      <td>0</td>\n",
       "      <td>0</td>\n",
       "      <td>...</td>\n",
       "      <td>0</td>\n",
       "      <td>0</td>\n",
       "      <td>0</td>\n",
       "      <td>0</td>\n",
       "      <td>1</td>\n",
       "      <td>0</td>\n",
       "      <td>0</td>\n",
       "      <td>1</td>\n",
       "      <td>0</td>\n",
       "      <td>beer_and_wine</td>\n",
       "    </tr>\n",
       "    <tr>\n",
       "      <th>mzFgl5bYVhytcdOd7J9kLw</th>\n",
       "      <td>Charlotte,NC</td>\n",
       "      <td>2.0</td>\n",
       "      <td>1</td>\n",
       "      <td>1</td>\n",
       "      <td>1</td>\n",
       "      <td>1</td>\n",
       "      <td>casual</td>\n",
       "      <td>0</td>\n",
       "      <td>0</td>\n",
       "      <td>0</td>\n",
       "      <td>...</td>\n",
       "      <td>0</td>\n",
       "      <td>0</td>\n",
       "      <td>0</td>\n",
       "      <td>0</td>\n",
       "      <td>1</td>\n",
       "      <td>0</td>\n",
       "      <td>0</td>\n",
       "      <td>1</td>\n",
       "      <td>0</td>\n",
       "      <td>beer_and_wine</td>\n",
       "    </tr>\n",
       "    <tr>\n",
       "      <th>lSpQGob-ceMRQvKBadkdZQ</th>\n",
       "      <td>Charlotte,NC</td>\n",
       "      <td>2.0</td>\n",
       "      <td>1</td>\n",
       "      <td>1</td>\n",
       "      <td>1</td>\n",
       "      <td>1</td>\n",
       "      <td>casual</td>\n",
       "      <td>0</td>\n",
       "      <td>0</td>\n",
       "      <td>0</td>\n",
       "      <td>...</td>\n",
       "      <td>0</td>\n",
       "      <td>0</td>\n",
       "      <td>0</td>\n",
       "      <td>0</td>\n",
       "      <td>1</td>\n",
       "      <td>0</td>\n",
       "      <td>0</td>\n",
       "      <td>1</td>\n",
       "      <td>0</td>\n",
       "      <td>beer_and_wine</td>\n",
       "    </tr>\n",
       "  </tbody>\n",
       "</table>\n",
       "<p>3 rows × 21 columns</p>\n",
       "</div>"
      ],
      "text/plain": [
       "                                                   location  \\\n",
       "business_id            review_id                              \n",
       "KbLI0QELlAwbfDUVwo43DQ HpqaGoLFaio3PZobs_dhew  Charlotte,NC   \n",
       "                       mzFgl5bYVhytcdOd7J9kLw  Charlotte,NC   \n",
       "                       lSpQGob-ceMRQvKBadkdZQ  Charlotte,NC   \n",
       "\n",
       "                                              RestaurantsPriceRange2  \\\n",
       "business_id            review_id                                       \n",
       "KbLI0QELlAwbfDUVwo43DQ HpqaGoLFaio3PZobs_dhew                    2.0   \n",
       "                       mzFgl5bYVhytcdOd7J9kLw                    2.0   \n",
       "                       lSpQGob-ceMRQvKBadkdZQ                    2.0   \n",
       "\n",
       "                                              RestaurantsTakeOut  \\\n",
       "business_id            review_id                                   \n",
       "KbLI0QELlAwbfDUVwo43DQ HpqaGoLFaio3PZobs_dhew                  1   \n",
       "                       mzFgl5bYVhytcdOd7J9kLw                  1   \n",
       "                       lSpQGob-ceMRQvKBadkdZQ                  1   \n",
       "\n",
       "                                              RestaurantsGoodForGroups  \\\n",
       "business_id            review_id                                         \n",
       "KbLI0QELlAwbfDUVwo43DQ HpqaGoLFaio3PZobs_dhew                        1   \n",
       "                       mzFgl5bYVhytcdOd7J9kLw                        1   \n",
       "                       lSpQGob-ceMRQvKBadkdZQ                        1   \n",
       "\n",
       "                                              BusinessAcceptsCreditCards  \\\n",
       "business_id            review_id                                           \n",
       "KbLI0QELlAwbfDUVwo43DQ HpqaGoLFaio3PZobs_dhew                          1   \n",
       "                       mzFgl5bYVhytcdOd7J9kLw                          1   \n",
       "                       lSpQGob-ceMRQvKBadkdZQ                          1   \n",
       "\n",
       "                                              GoodForKids RestaurantsAttire  \\\n",
       "business_id            review_id                                              \n",
       "KbLI0QELlAwbfDUVwo43DQ HpqaGoLFaio3PZobs_dhew           1            casual   \n",
       "                       mzFgl5bYVhytcdOd7J9kLw           1            casual   \n",
       "                       lSpQGob-ceMRQvKBadkdZQ           1            casual   \n",
       "\n",
       "                                              RestaurantsReservations  \\\n",
       "business_id            review_id                                        \n",
       "KbLI0QELlAwbfDUVwo43DQ HpqaGoLFaio3PZobs_dhew                       0   \n",
       "                       mzFgl5bYVhytcdOd7J9kLw                       0   \n",
       "                       lSpQGob-ceMRQvKBadkdZQ                       0   \n",
       "\n",
       "                                              OutdoorSeating  \\\n",
       "business_id            review_id                               \n",
       "KbLI0QELlAwbfDUVwo43DQ HpqaGoLFaio3PZobs_dhew              0   \n",
       "                       mzFgl5bYVhytcdOd7J9kLw              0   \n",
       "                       lSpQGob-ceMRQvKBadkdZQ              0   \n",
       "\n",
       "                                              RestaurantsDelivery  \\\n",
       "business_id            review_id                                    \n",
       "KbLI0QELlAwbfDUVwo43DQ HpqaGoLFaio3PZobs_dhew                   0   \n",
       "                       mzFgl5bYVhytcdOd7J9kLw                   0   \n",
       "                       lSpQGob-ceMRQvKBadkdZQ                   0   \n",
       "\n",
       "                                                   ...        \\\n",
       "business_id            review_id                   ...         \n",
       "KbLI0QELlAwbfDUVwo43DQ HpqaGoLFaio3PZobs_dhew      ...         \n",
       "                       mzFgl5bYVhytcdOd7J9kLw      ...         \n",
       "                       lSpQGob-ceMRQvKBadkdZQ      ...         \n",
       "\n",
       "                                              GoodForMeal.latenight  \\\n",
       "business_id            review_id                                      \n",
       "KbLI0QELlAwbfDUVwo43DQ HpqaGoLFaio3PZobs_dhew                     0   \n",
       "                       mzFgl5bYVhytcdOd7J9kLw                     0   \n",
       "                       lSpQGob-ceMRQvKBadkdZQ                     0   \n",
       "\n",
       "                                              GoodForMeal.breakfast  \\\n",
       "business_id            review_id                                      \n",
       "KbLI0QELlAwbfDUVwo43DQ HpqaGoLFaio3PZobs_dhew                     0   \n",
       "                       mzFgl5bYVhytcdOd7J9kLw                     0   \n",
       "                       lSpQGob-ceMRQvKBadkdZQ                     0   \n",
       "\n",
       "                                              GoodForMeal.dessert  \\\n",
       "business_id            review_id                                    \n",
       "KbLI0QELlAwbfDUVwo43DQ HpqaGoLFaio3PZobs_dhew                   0   \n",
       "                       mzFgl5bYVhytcdOd7J9kLw                   0   \n",
       "                       lSpQGob-ceMRQvKBadkdZQ                   0   \n",
       "\n",
       "                                              GoodForMeal.brunch  \\\n",
       "business_id            review_id                                   \n",
       "KbLI0QELlAwbfDUVwo43DQ HpqaGoLFaio3PZobs_dhew                  0   \n",
       "                       mzFgl5bYVhytcdOd7J9kLw                  0   \n",
       "                       lSpQGob-ceMRQvKBadkdZQ                  0   \n",
       "\n",
       "                                              GoodForMeal.lunch  \\\n",
       "business_id            review_id                                  \n",
       "KbLI0QELlAwbfDUVwo43DQ HpqaGoLFaio3PZobs_dhew                 1   \n",
       "                       mzFgl5bYVhytcdOd7J9kLw                 1   \n",
       "                       lSpQGob-ceMRQvKBadkdZQ                 1   \n",
       "\n",
       "                                              BusinessParking.valet  \\\n",
       "business_id            review_id                                      \n",
       "KbLI0QELlAwbfDUVwo43DQ HpqaGoLFaio3PZobs_dhew                     0   \n",
       "                       mzFgl5bYVhytcdOd7J9kLw                     0   \n",
       "                       lSpQGob-ceMRQvKBadkdZQ                     0   \n",
       "\n",
       "                                              BusinessParking.street  \\\n",
       "business_id            review_id                                       \n",
       "KbLI0QELlAwbfDUVwo43DQ HpqaGoLFaio3PZobs_dhew                      0   \n",
       "                       mzFgl5bYVhytcdOd7J9kLw                      0   \n",
       "                       lSpQGob-ceMRQvKBadkdZQ                      0   \n",
       "\n",
       "                                              BusinessParking.lot  \\\n",
       "business_id            review_id                                    \n",
       "KbLI0QELlAwbfDUVwo43DQ HpqaGoLFaio3PZobs_dhew                   1   \n",
       "                       mzFgl5bYVhytcdOd7J9kLw                   1   \n",
       "                       lSpQGob-ceMRQvKBadkdZQ                   1   \n",
       "\n",
       "                                              BusinessParking.garage  \\\n",
       "business_id            review_id                                       \n",
       "KbLI0QELlAwbfDUVwo43DQ HpqaGoLFaio3PZobs_dhew                      0   \n",
       "                       mzFgl5bYVhytcdOd7J9kLw                      0   \n",
       "                       lSpQGob-ceMRQvKBadkdZQ                      0   \n",
       "\n",
       "                                                     Alcohol  \n",
       "business_id            review_id                              \n",
       "KbLI0QELlAwbfDUVwo43DQ HpqaGoLFaio3PZobs_dhew  beer_and_wine  \n",
       "                       mzFgl5bYVhytcdOd7J9kLw  beer_and_wine  \n",
       "                       lSpQGob-ceMRQvKBadkdZQ  beer_and_wine  \n",
       "\n",
       "[3 rows x 21 columns]"
      ]
     },
     "execution_count": 22,
     "metadata": {},
     "output_type": "execute_result"
    }
   ],
   "source": [
    "table.ix[:,\"location\":\"Alcohol\"].head(3)"
   ]
  },
  {
   "cell_type": "code",
   "execution_count": 23,
   "metadata": {},
   "outputs": [
    {
     "data": {
      "text/plain": [
       "location                       object\n",
       "RestaurantsPriceRange2         object\n",
       "RestaurantsTakeOut             object\n",
       "RestaurantsGoodForGroups       object\n",
       "BusinessAcceptsCreditCards     object\n",
       "GoodForKids                    object\n",
       "RestaurantsAttire              object\n",
       "RestaurantsReservations        object\n",
       "OutdoorSeating                 object\n",
       "RestaurantsDelivery            object\n",
       "GoodForMeal.dinner             object\n",
       "GoodForMeal.latenight          object\n",
       "GoodForMeal.breakfast          object\n",
       "GoodForMeal.dessert            object\n",
       "GoodForMeal.brunch             object\n",
       "GoodForMeal.lunch              object\n",
       "BusinessParking.valet          object\n",
       "BusinessParking.street         object\n",
       "BusinessParking.lot            object\n",
       "BusinessParking.garage         object\n",
       "Alcohol                        object\n",
       "business_review_count           int64\n",
       "avg_business_stars            float64\n",
       "average_stars                 float64\n",
       "compliment_cool                 int64\n",
       "compliment_cute                 int64\n",
       "compliment_funny                int64\n",
       "compliment_hot                  int64\n",
       "compliment_list                 int64\n",
       "compliment_more                 int64\n",
       "compliment_note                 int64\n",
       "compliment_photos               int64\n",
       "compliment_plain                int64\n",
       "compliment_profile              int64\n",
       "compliment_writer               int64\n",
       "cool                            int64\n",
       "elite                           int64\n",
       "fans                            int64\n",
       "friends                         int64\n",
       "funny                           int64\n",
       "user_review_count               int64\n",
       "useful                          int64\n",
       "yelping_since                   int64\n",
       "likes                           int64\n",
       "num_photos                      int64\n",
       "target                           bool\n",
       "dtype: object"
      ]
     },
     "execution_count": 23,
     "metadata": {},
     "output_type": "execute_result"
    }
   ],
   "source": [
    "table.dtypes"
   ]
  },
  {
   "cell_type": "code",
   "execution_count": 26,
   "metadata": {
    "collapsed": true
   },
   "outputs": [],
   "source": [
    "from sklearn.preprocessing import LabelEncoder, OneHotEncoder"
   ]
  },
  {
   "cell_type": "code",
   "execution_count": 27,
   "metadata": {},
   "outputs": [],
   "source": [
    "labelencoder = LabelEncoder()"
   ]
  },
  {
   "cell_type": "code",
   "execution_count": 28,
   "metadata": {
    "collapsed": true
   },
   "outputs": [],
   "source": [
    "table.ix[:,\"location\":\"Alcohol\"] = table.ix[:,\"location\":\"Alcohol\"].apply(lambda x: labelencoder.fit_transform(x),axis=0 ) "
   ]
  },
  {
   "cell_type": "code",
   "execution_count": 29,
   "metadata": {},
   "outputs": [],
   "source": [
    "onehotencoder = OneHotEncoder(categorical_features = list(range(21)))"
   ]
  },
  {
   "cell_type": "code",
   "execution_count": 30,
   "metadata": {},
   "outputs": [],
   "source": [
    "table = onehotencoder.fit_transform(table.ix[:,:]).toarray()"
   ]
  },
  {
   "cell_type": "code",
   "execution_count": 31,
   "metadata": {},
   "outputs": [
    {
     "data": {
      "text/plain": [
       "(1016902, 109)"
      ]
     },
     "execution_count": 31,
     "metadata": {},
     "output_type": "execute_result"
    }
   ],
   "source": [
    "table.shape"
   ]
  },
  {
   "cell_type": "markdown",
   "metadata": {},
   "source": [
    "spilt train set and test set."
   ]
  },
  {
   "cell_type": "code",
   "execution_count": 32,
   "metadata": {},
   "outputs": [
    {
     "name": "stderr",
     "output_type": "stream",
     "text": [
      "C:\\Users\\leiwen\\Anaconda3\\lib\\site-packages\\sklearn\\cross_validation.py:41: DeprecationWarning: This module was deprecated in version 0.18 in favor of the model_selection module into which all the refactored classes and functions are moved. Also note that the interface of the new CV iterators are different from that of this module. This module will be removed in 0.20.\n",
      "  \"This module will be removed in 0.20.\", DeprecationWarning)\n"
     ]
    }
   ],
   "source": [
    "from sklearn.cross_validation import train_test_split"
   ]
  },
  {
   "cell_type": "code",
   "execution_count": 33,
   "metadata": {
    "collapsed": true
   },
   "outputs": [],
   "source": [
    "train, test = train_test_split(table, test_size = 0.3, random_state = 0)"
   ]
  },
  {
   "cell_type": "code",
   "execution_count": 34,
   "metadata": {},
   "outputs": [
    {
     "data": {
      "text/plain": [
       "(711831, 109)"
      ]
     },
     "execution_count": 34,
     "metadata": {},
     "output_type": "execute_result"
    }
   ],
   "source": [
    "train.shape"
   ]
  },
  {
   "cell_type": "code",
   "execution_count": 35,
   "metadata": {},
   "outputs": [
    {
     "data": {
      "text/plain": [
       "(305071, 109)"
      ]
     },
     "execution_count": 35,
     "metadata": {},
     "output_type": "execute_result"
    }
   ],
   "source": [
    "test.shape"
   ]
  },
  {
   "cell_type": "code",
   "execution_count": 36,
   "metadata": {},
   "outputs": [
    {
     "data": {
      "text/plain": [
       "array([ 1.,  1.,  0., ...,  0.,  0.,  1.])"
      ]
     },
     "execution_count": 36,
     "metadata": {},
     "output_type": "execute_result"
    }
   ],
   "source": [
    "train[:,-1]"
   ]
  },
  {
   "cell_type": "code",
   "execution_count": 37,
   "metadata": {
    "collapsed": true
   },
   "outputs": [],
   "source": [
    "X_train = train[:,:-1]"
   ]
  },
  {
   "cell_type": "code",
   "execution_count": 38,
   "metadata": {
    "collapsed": true
   },
   "outputs": [],
   "source": [
    "Y_train =train[:,-1].astype(\"int\")"
   ]
  },
  {
   "cell_type": "code",
   "execution_count": 39,
   "metadata": {
    "collapsed": true
   },
   "outputs": [],
   "source": [
    "X_test = test[:,:-1]"
   ]
  },
  {
   "cell_type": "code",
   "execution_count": 40,
   "metadata": {
    "collapsed": true
   },
   "outputs": [],
   "source": [
    "Y_test =test[:,-1].astype(\"int\")"
   ]
  },
  {
   "cell_type": "code",
   "execution_count": 41,
   "metadata": {},
   "outputs": [
    {
     "data": {
      "text/plain": [
       "array([0, 0, 1, ..., 0, 1, 1])"
      ]
     },
     "execution_count": 41,
     "metadata": {},
     "output_type": "execute_result"
    }
   ],
   "source": [
    "Y_test"
   ]
  },
  {
   "cell_type": "code",
   "execution_count": 42,
   "metadata": {
    "collapsed": true
   },
   "outputs": [],
   "source": [
    "from sklearn.preprocessing import StandardScaler\n",
    "sc = StandardScaler()\n",
    "X_train = sc.fit_transform(X_train)\n",
    "X_test = sc.transform(X_test)"
   ]
  },
  {
   "cell_type": "code",
   "execution_count": 43,
   "metadata": {},
   "outputs": [
    {
     "name": "stderr",
     "output_type": "stream",
     "text": [
      "Using TensorFlow backend.\n"
     ]
    }
   ],
   "source": [
    "import keras\n",
    "from keras.models import Sequential\n",
    "from keras.layers import Dense"
   ]
  },
  {
   "cell_type": "code",
   "execution_count": 44,
   "metadata": {
    "collapsed": true
   },
   "outputs": [],
   "source": [
    "classifier = Sequential()"
   ]
  },
  {
   "cell_type": "code",
   "execution_count": 45,
   "metadata": {},
   "outputs": [
    {
     "name": "stderr",
     "output_type": "stream",
     "text": [
      "C:\\Users\\leiwen\\Anaconda3\\lib\\site-packages\\ipykernel_launcher.py:1: UserWarning: Update your `Dense` call to the Keras 2 API: `Dense(activation=\"relu\", input_dim=108, units=30, kernel_initializer=\"uniform\")`\n",
      "  \"\"\"Entry point for launching an IPython kernel.\n"
     ]
    }
   ],
   "source": [
    "classifier.add(Dense(output_dim = 30, init = 'uniform', activation = 'relu', input_dim = 108))"
   ]
  },
  {
   "cell_type": "code",
   "execution_count": 46,
   "metadata": {},
   "outputs": [
    {
     "name": "stderr",
     "output_type": "stream",
     "text": [
      "C:\\Users\\leiwen\\Anaconda3\\lib\\site-packages\\ipykernel_launcher.py:1: UserWarning: Update your `Dense` call to the Keras 2 API: `Dense(activation=\"relu\", units=30, kernel_initializer=\"uniform\")`\n",
      "  \"\"\"Entry point for launching an IPython kernel.\n"
     ]
    }
   ],
   "source": [
    "classifier.add(Dense(output_dim = 30, init = 'uniform', activation = 'relu'))"
   ]
  },
  {
   "cell_type": "code",
   "execution_count": 47,
   "metadata": {},
   "outputs": [
    {
     "name": "stderr",
     "output_type": "stream",
     "text": [
      "C:\\Users\\leiwen\\Anaconda3\\lib\\site-packages\\ipykernel_launcher.py:1: UserWarning: Update your `Dense` call to the Keras 2 API: `Dense(activation=\"sigmoid\", units=1, kernel_initializer=\"uniform\")`\n",
      "  \"\"\"Entry point for launching an IPython kernel.\n"
     ]
    }
   ],
   "source": [
    "classifier.add(Dense(output_dim = 1, init = 'uniform', activation = 'sigmoid'))"
   ]
  },
  {
   "cell_type": "code",
   "execution_count": 49,
   "metadata": {
    "collapsed": true
   },
   "outputs": [],
   "source": [
    "classifier.compile(optimizer = 'adam', loss = 'binary_crossentropy', metrics = ['accuracy'])"
   ]
  },
  {
   "cell_type": "code",
   "execution_count": null,
   "metadata": {},
   "outputs": [
    {
     "name": "stderr",
     "output_type": "stream",
     "text": [
      "C:\\Users\\leiwen\\Anaconda3\\lib\\site-packages\\keras\\models.py:848: UserWarning: The `nb_epoch` argument in `fit` has been renamed `epochs`.\n",
      "  warnings.warn('The `nb_epoch` argument in `fit` '\n"
     ]
    },
    {
     "name": "stdout",
     "output_type": "stream",
     "text": [
      "Epoch 1/300\n",
      "711831/711831 [==============================] - 3s - loss: 0.5807 - acc: 0.6917     \n",
      "Epoch 2/300\n",
      "711831/711831 [==============================] - 1s - loss: 0.5483 - acc: 0.7196     \n",
      "Epoch 3/300\n",
      "711831/711831 [==============================] - 1s - loss: 0.5450 - acc: 0.7210     \n",
      "Epoch 4/300\n",
      "711831/711831 [==============================] - 1s - loss: 0.5424 - acc: 0.7228     \n",
      "Epoch 5/300\n",
      "711831/711831 [==============================] - 1s - loss: 0.5413 - acc: 0.7233     \n",
      "Epoch 6/300\n",
      "648000/711831 [==========================>...] - ETA: 0s - loss: 0.5402 - acc: 0.7240"
     ]
    }
   ],
   "source": [
    "classifier.fit(X_train, Y_train, batch_size = 2000, nb_epoch = 300)"
   ]
  },
  {
   "cell_type": "code",
   "execution_count": 103,
   "metadata": {
    "collapsed": true
   },
   "outputs": [],
   "source": [
    "y_pred = classifier.predict(X_test)\n",
    "y_pred = (y_pred > 0.5)"
   ]
  },
  {
   "cell_type": "code",
   "execution_count": 104,
   "metadata": {
    "collapsed": true
   },
   "outputs": [],
   "source": [
    "from sklearn.metrics import confusion_matrix\n",
    "cm = confusion_matrix(Y_test, y_pred)"
   ]
  },
  {
   "cell_type": "code",
   "execution_count": 105,
   "metadata": {},
   "outputs": [
    {
     "data": {
      "text/plain": [
       "array([[1157,  322],\n",
       "       [ 437,  311]], dtype=int64)"
      ]
     },
     "execution_count": 105,
     "metadata": {},
     "output_type": "execute_result"
    }
   ],
   "source": [
    "cm"
   ]
  },
  {
   "cell_type": "code",
   "execution_count": 106,
   "metadata": {},
   "outputs": [
    {
     "data": {
      "text/plain": [
       "0.65918275707229457"
      ]
     },
     "execution_count": 106,
     "metadata": {},
     "output_type": "execute_result"
    }
   ],
   "source": [
    "(cm[0,0]+cm[1,1])/cm.sum()"
   ]
  },
  {
   "cell_type": "code",
   "execution_count": 107,
   "metadata": {},
   "outputs": [
    {
     "data": {
      "text/plain": [
       "0    1479\n",
       "1     748\n",
       "dtype: int64"
      ]
     },
     "execution_count": 107,
     "metadata": {},
     "output_type": "execute_result"
    }
   ],
   "source": [
    "pd.Series(Y_test).value_counts()"
   ]
  },
  {
   "cell_type": "code",
   "execution_count": null,
   "metadata": {
    "collapsed": true
   },
   "outputs": [],
   "source": []
  }
 ],
 "metadata": {
  "anaconda-cloud": {},
  "kernelspec": {
   "display_name": "Python 3",
   "language": "python",
   "name": "python3"
  },
  "language_info": {
   "codemirror_mode": {
    "name": "ipython",
    "version": 3
   },
   "file_extension": ".py",
   "mimetype": "text/x-python",
   "name": "python",
   "nbconvert_exporter": "python",
   "pygments_lexer": "ipython3",
   "version": "3.6.3"
  }
 },
 "nbformat": 4,
 "nbformat_minor": 2
}
